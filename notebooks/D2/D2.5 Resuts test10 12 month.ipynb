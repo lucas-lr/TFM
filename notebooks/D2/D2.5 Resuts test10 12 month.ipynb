{
 "cells": [
  {
   "cell_type": "code",
   "execution_count": 1,
   "metadata": {},
   "outputs": [],
   "source": [
    "import sys\n",
    "sys.path.append('/TFM/')"
   ]
  },
  {
   "cell_type": "code",
   "execution_count": 2,
   "metadata": {},
   "outputs": [],
   "source": [
    "from sklearn.externals import joblib\n",
    "import numpy as np\n",
    "from TFM.validation import get_last_period_result\n",
    "from TFM.plots import plot_binary_roc_curve, plot_adjustment\n",
    "import matplotlib.pylab as plt\n",
    "import pandas as pd"
   ]
  },
  {
   "cell_type": "code",
   "execution_count": 34,
   "metadata": {},
   "outputs": [],
   "source": [
    "can_valid_ids = joblib.load('MODEL10_ALL/can_validation_ids.pickle')\n",
    "nocan_valid_ids = joblib.load('MODEL10_ALL/nocan_validation_ids.pickle')"
   ]
  },
  {
   "cell_type": "code",
   "execution_count": 36,
   "metadata": {},
   "outputs": [
    {
     "data": {
      "text/plain": [
       "7813"
      ]
     },
     "execution_count": 36,
     "metadata": {},
     "output_type": "execute_result"
    }
   ],
   "source": [
    "len(can_valid_ids + nocan_valid_ids)"
   ]
  },
  {
   "cell_type": "code",
   "execution_count": 3,
   "metadata": {},
   "outputs": [],
   "source": [
    "results_model10_train_val = joblib.load('MODEL10_ALL/results_model7.pickle')"
   ]
  },
  {
   "cell_type": "code",
   "execution_count": 4,
   "metadata": {},
   "outputs": [
    {
     "data": {
      "text/plain": [
       "[[0, 0, 0.75951, 0.72838, 0.453],\n",
       " [0, 768, 0.72646, 0.69322, 0.44],\n",
       " [0, 1536, 0.69537, 0.65884, 0.392],\n",
       " [0, 2304, 0.65654, 0.6272, 0.321],\n",
       " [0, 3072, 0.62787, 0.59405, 0.276],\n",
       " [0, 3840, 0.59812, 0.56156, 0.252],\n",
       " [0, 4608, 0.55685, 0.52979, 0.24],\n",
       " [0, 5376, 0.53223, 0.49863, 0.233],\n",
       " [0, 6144, 0.50329, 0.46786, 0.229],\n",
       " [0, 6912, 0.47386, 0.43729, 0.227],\n",
       " [0, 7680, 0.44129, 0.40685, 0.225],\n",
       " [0, 8448, 0.4021, 0.37658, 0.224],\n",
       " [0, 9216, 0.38064, 0.34686, 0.223],\n",
       " [0, 9984, 0.34957, 0.31829, 0.221],\n",
       " [0, 10752, 0.32535, 0.29093, 0.22],\n",
       " [0, 11520, 0.29628, 0.26508, 0.219],\n",
       " [0, 12288, 0.26621, 0.24115, 0.218],\n",
       " [0, 13056, 0.24052, 0.219, 0.217],\n",
       " [0, 13824, 0.21383, 0.19914, 0.217],\n",
       " [0, 14592, 0.21114, 0.18126, 0.216],\n",
       " [0, 15360, 0.17812, 0.16573, 0.217],\n",
       " [0, 16128, 0.16508, 0.15245, 0.217],\n",
       " [0, 16896, 0.15298, 0.14118, 0.217],\n",
       " [0, 17664, 0.1368, 0.13205, 0.219],\n",
       " [0, 18432, 0.1271, 0.12476, 0.22],\n",
       " [0, 19200, 0.12317, 0.11922, 0.222],\n",
       " [0, 19968, 0.10539, 0.11521, 0.224],\n",
       " [0, 20736, 0.1244, 0.11248, 0.226],\n",
       " [0, 21504, 0.1111, 0.11079, 0.228],\n",
       " [0, 22272, 0.10085, 0.10987, 0.23],\n",
       " [0, 23040, 0.1199, 0.10943, 0.232],\n",
       " [0, 23808, 0.10731, 0.10929, 0.234],\n",
       " [0, 24576, 0.11103, 0.1093, 0.236],\n",
       " [0, 25344, 0.12308, 0.10927, 0.238],\n",
       " [0, 26112, 0.10432, 0.10919, 0.241],\n",
       " [0, 26880, 0.11437, 0.10899, 0.243],\n",
       " [0, 27648, 0.10653, 0.10867, 0.246],\n",
       " [0, 28416, 0.11256, 0.1082, 0.248],\n",
       " [0, 29184, 0.11388, 0.10756, 0.251],\n",
       " [0, 29952, 0.12485, 0.10676, 0.254],\n",
       " [0, 30720, 0.12337, 0.1058, 0.257],\n",
       " [0, 31488, 0.10543, 0.10477, 0.26],\n",
       " [0, 32256, 0.1005, 0.10371, 0.264],\n",
       " [0, 33024, 0.11459, 0.1026, 0.267],\n",
       " [0, 33792, 0.10712, 0.10149, 0.271],\n",
       " [0, 34560, 0.09979, 0.10041, 0.274],\n",
       " [0, 35328, 0.07544, 0.09942, 0.277],\n",
       " [0, 36096, 0.10649, 0.09845, 0.28],\n",
       " [0, 36864, 0.10717, 0.09753, 0.283],\n",
       " [0, 37632, 0.10438, 0.09665, 0.287],\n",
       " [0, 38400, 0.10231, 0.09584, 0.29],\n",
       " [0, 39168, 0.09645, 0.09509, 0.294],\n",
       " [0, 39936, 0.09907, 0.09442, 0.297],\n",
       " [0, 40704, 0.09685, 0.09383, 0.301],\n",
       " [0, 41472, 0.09445, 0.09331, 0.304],\n",
       " [0, 42240, 0.11091, 0.09285, 0.307],\n",
       " [0, 43008, 0.09481, 0.09246, 0.311],\n",
       " [0, 43776, 0.10814, 0.09211, 0.314],\n",
       " [1, 0, 0.1146, 0.09182, 0.318],\n",
       " [1, 768, 0.08403, 0.09157, 0.322],\n",
       " [1, 1536, 0.10165, 0.09135, 0.325],\n",
       " [1, 2304, 0.10029, 0.09115, 0.328],\n",
       " [1, 3072, 0.09267, 0.09095, 0.332],\n",
       " [1, 3840, 0.10005, 0.09075, 0.335],\n",
       " [1, 4608, 0.07986, 0.09054, 0.338],\n",
       " [1, 5376, 0.09065, 0.09032, 0.342],\n",
       " [1, 6144, 0.08054, 0.09008, 0.345],\n",
       " [1, 6912, 0.09114, 0.08982, 0.348],\n",
       " [1, 7680, 0.11236, 0.08957, 0.351],\n",
       " [1, 8448, 0.09875, 0.08932, 0.354],\n",
       " [1, 9216, 0.08435, 0.08906, 0.357],\n",
       " [1, 9984, 0.09855, 0.0888, 0.36],\n",
       " [1, 10752, 0.08932, 0.08854, 0.364],\n",
       " [1, 11520, 0.08664, 0.08829, 0.367],\n",
       " [1, 12288, 0.1068, 0.08806, 0.371],\n",
       " [1, 13056, 0.07344, 0.08782, 0.375],\n",
       " [1, 13824, 0.09351, 0.08759, 0.379],\n",
       " [1, 14592, 0.08887, 0.08736, 0.385],\n",
       " [1, 15360, 0.08367, 0.08715, 0.39],\n",
       " [1, 16128, 0.09158, 0.08694, 0.397],\n",
       " [1, 16896, 0.09621, 0.08673, 0.405],\n",
       " [1, 17664, 0.08913, 0.08654, 0.414],\n",
       " [1, 18432, 0.08125, 0.08639, 0.422],\n",
       " [1, 19200, 0.06952, 0.08627, 0.43],\n",
       " [1, 19968, 0.08829, 0.08615, 0.437],\n",
       " [1, 20736, 0.08807, 0.086, 0.446],\n",
       " [1, 21504, 0.09513, 0.0858, 0.456],\n",
       " [1, 22272, 0.09562, 0.08555, 0.466],\n",
       " [1, 23040, 0.08249, 0.0853, 0.477],\n",
       " [1, 23808, 0.06786, 0.08509, 0.487],\n",
       " [1, 24576, 0.07728, 0.08487, 0.498],\n",
       " [1, 25344, 0.08826, 0.08464, 0.508],\n",
       " [1, 26112, 0.07531, 0.08442, 0.519],\n",
       " [1, 26880, 0.089, 0.08419, 0.529],\n",
       " [1, 27648, 0.09917, 0.08393, 0.539],\n",
       " [1, 28416, 0.07931, 0.08368, 0.548],\n",
       " [1, 29184, 0.07614, 0.08345, 0.558],\n",
       " [1, 29952, 0.07213, 0.08324, 0.567],\n",
       " [1, 30720, 0.10232, 0.083, 0.576],\n",
       " [1, 31488, 0.09465, 0.08275, 0.585],\n",
       " [1, 32256, 0.08915, 0.08252, 0.593],\n",
       " [1, 33024, 0.09377, 0.0823, 0.602],\n",
       " [1, 33792, 0.07123, 0.08209, 0.61],\n",
       " [1, 34560, 0.09108, 0.08188, 0.618],\n",
       " [1, 35328, 0.06384, 0.08167, 0.625],\n",
       " [1, 36096, 0.0764, 0.08146, 0.632],\n",
       " [1, 36864, 0.0804, 0.08127, 0.639],\n",
       " [1, 37632, 0.07254, 0.08109, 0.645],\n",
       " [1, 38400, 0.0956, 0.0809, 0.651],\n",
       " [1, 39168, 0.09071, 0.0807, 0.657],\n",
       " [1, 39936, 0.08902, 0.08049, 0.663],\n",
       " [1, 40704, 0.09665, 0.08025, 0.67],\n",
       " [1, 41472, 0.08737, 0.08, 0.676],\n",
       " [1, 42240, 0.0635, 0.07978, 0.681],\n",
       " [1, 43008, 0.07503, 0.07958, 0.686],\n",
       " [1, 43776, 0.07581, 0.07937, 0.691],\n",
       " [2, 0, 0.08401, 0.07917, 0.695],\n",
       " [2, 768, 0.06966, 0.07902, 0.699],\n",
       " [2, 1536, 0.07986, 0.07886, 0.702],\n",
       " [2, 2304, 0.08967, 0.07868, 0.706],\n",
       " [2, 3072, 0.07906, 0.07847, 0.71],\n",
       " [2, 3840, 0.07389, 0.07826, 0.714],\n",
       " [2, 4608, 0.08352, 0.07802, 0.717],\n",
       " [2, 5376, 0.08184, 0.07777, 0.721],\n",
       " [2, 6144, 0.07895, 0.07752, 0.725],\n",
       " [2, 6912, 0.07794, 0.07727, 0.729],\n",
       " [2, 7680, 0.07379, 0.07705, 0.732],\n",
       " [2, 8448, 0.08314, 0.07683, 0.735],\n",
       " [2, 9216, 0.07173, 0.07664, 0.738],\n",
       " [2, 9984, 0.06343, 0.07648, 0.74],\n",
       " [2, 10752, 0.09279, 0.07629, 0.742],\n",
       " [2, 11520, 0.09819, 0.07608, 0.746],\n",
       " [2, 12288, 0.07753, 0.07591, 0.748],\n",
       " [2, 13056, 0.07165, 0.07576, 0.751],\n",
       " [2, 13824, 0.07802, 0.0756, 0.752],\n",
       " [2, 14592, 0.07247, 0.07546, 0.754],\n",
       " [2, 15360, 0.07298, 0.07535, 0.755],\n",
       " [2, 16128, 0.07619, 0.07526, 0.756],\n",
       " [2, 16896, 0.07551, 0.07521, 0.757],\n",
       " [2, 17664, 0.08667, 0.0751, 0.758],\n",
       " [2, 18432, 0.0823, 0.07495, 0.76],\n",
       " [2, 19200, 0.07268, 0.0748, 0.762],\n",
       " [2, 19968, 0.07769, 0.07464, 0.764],\n",
       " [2, 20736, 0.07531, 0.07448, 0.766],\n",
       " [2, 21504, 0.0898, 0.07428, 0.768],\n",
       " [2, 22272, 0.07845, 0.0741, 0.771],\n",
       " [2, 23040, 0.06799, 0.07396, 0.773],\n",
       " [2, 23808, 0.06651, 0.07384, 0.774],\n",
       " [2, 24576, 0.07036, 0.07373, 0.775],\n",
       " [2, 25344, 0.07621, 0.07364, 0.776],\n",
       " [2, 26112, 0.0738, 0.07359, 0.776],\n",
       " [2, 26880, 0.08174, 0.07354, 0.777],\n",
       " [2, 27648, 0.07379, 0.07354, 0.777],\n",
       " [2, 28416, 0.08008, 0.07349, 0.778],\n",
       " [2, 29184, 0.08366, 0.07334, 0.78],\n",
       " [2, 29952, 0.07775, 0.07318, 0.781],\n",
       " [2, 30720, 0.06781, 0.07306, 0.782],\n",
       " [2, 31488, 0.07555, 0.07296, 0.783],\n",
       " [2, 32256, 0.08649, 0.07278, 0.785],\n",
       " [2, 33024, 0.07078, 0.07265, 0.786],\n",
       " [2, 33792, 0.06102, 0.07259, 0.787],\n",
       " [2, 34560, 0.06982, 0.07258, 0.787],\n",
       " [2, 35328, 0.07279, 0.07258, 0.788],\n",
       " [2, 36096, 0.07587, 0.07253, 0.789],\n",
       " [2, 36864, 0.07265, 0.07247, 0.789],\n",
       " [2, 37632, 0.06949, 0.07244, 0.79],\n",
       " [2, 38400, 0.0545, 0.07254, 0.79],\n",
       " [2, 39168, 0.07995, 0.07249, 0.791],\n",
       " [2, 39936, 0.05851, 0.07252, 0.792],\n",
       " [2, 40704, 0.07521, 0.07243, 0.793],\n",
       " [2, 41472, 0.06393, 0.0723, 0.795],\n",
       " [2, 42240, 0.08615, 0.07193, 0.797],\n",
       " [2, 43008, 0.09265, 0.07139, 0.8],\n",
       " [2, 43776, 0.07572, 0.07112, 0.803],\n",
       " [3, 0, 0.07771, 0.07097, 0.805],\n",
       " [3, 768, 0.0735, 0.07087, 0.807],\n",
       " [3, 1536, 0.07517, 0.07075, 0.808],\n",
       " [3, 2304, 0.07368, 0.07062, 0.809],\n",
       " [3, 3072, 0.07613, 0.07053, 0.809],\n",
       " [3, 3840, 0.07335, 0.07059, 0.809],\n",
       " [3, 4608, 0.06284, 0.07083, 0.809],\n",
       " [3, 5376, 0.06605, 0.07118, 0.808],\n",
       " [3, 6144, 0.08798, 0.07109, 0.809],\n",
       " [3, 6912, 0.07613, 0.07074, 0.811],\n",
       " [3, 7680, 0.0655, 0.07044, 0.813],\n",
       " [3, 8448, 0.08649, 0.06996, 0.816],\n",
       " [3, 9216, 0.08313, 0.06963, 0.819],\n",
       " [3, 9984, 0.05562, 0.06949, 0.82],\n",
       " [3, 10752, 0.07596, 0.06936, 0.821],\n",
       " [3, 11520, 0.06847, 0.06933, 0.822],\n",
       " [3, 12288, 0.07864, 0.06928, 0.822],\n",
       " [3, 13056, 0.07599, 0.06913, 0.824],\n",
       " [3, 13824, 0.06317, 0.06915, 0.824],\n",
       " [3, 14592, 0.07173, 0.06918, 0.825],\n",
       " [3, 15360, 0.06377, 0.06931, 0.825],\n",
       " [3, 16128, 0.06276, 0.06945, 0.826],\n",
       " [3, 16896, 0.06206, 0.06957, 0.826],\n",
       " [3, 17664, 0.06249, 0.06962, 0.827],\n",
       " [3, 18432, 0.06665, 0.0696, 0.827],\n",
       " [3, 19200, 0.06747, 0.06929, 0.829],\n",
       " [3, 19968, 0.06375, 0.06905, 0.83],\n",
       " [3, 20736, 0.07834, 0.06836, 0.833],\n",
       " [3, 21504, 0.07176, 0.0678, 0.836],\n",
       " [3, 22272, 0.0698, 0.06753, 0.838],\n",
       " [3, 23040, 0.06245, 0.0674, 0.839],\n",
       " [3, 23808, 0.0766, 0.06726, 0.841],\n",
       " [3, 24576, 0.0688, 0.0672, 0.842],\n",
       " [3, 25344, 0.05347, 0.0674, 0.842],\n",
       " [3, 26112, 0.07489, 0.06746, 0.842],\n",
       " [3, 26880, 0.07151, 0.0675, 0.843],\n",
       " [3, 27648, 0.06885, 0.06726, 0.845],\n",
       " [3, 28416, 0.06985, 0.06683, 0.847],\n",
       " [3, 29184, 0.07308, 0.06635, 0.85],\n",
       " [3, 29952, 0.07634, 0.06615, 0.852],\n",
       " [3, 30720, 0.0627, 0.0661, 0.854],\n",
       " [3, 31488, 0.06522, 0.06586, 0.855],\n",
       " [3, 32256, 0.07878, 0.06567, 0.856],\n",
       " [3, 33024, 0.06089, 0.0656, 0.857],\n",
       " [3, 33792, 0.0699, 0.06593, 0.856],\n",
       " [3, 34560, 0.07313, 0.06601, 0.857],\n",
       " [3, 35328, 0.07662, 0.06566, 0.859],\n",
       " [3, 36096, 0.06411, 0.06549, 0.86],\n",
       " [3, 36864, 0.05129, 0.06541, 0.861],\n",
       " [3, 37632, 0.07186, 0.06515, 0.862],\n",
       " [3, 38400, 0.05911, 0.06498, 0.863],\n",
       " [3, 39168, 0.05781, 0.06492, 0.863],\n",
       " [3, 39936, 0.07989, 0.06492, 0.864],\n",
       " [3, 40704, 0.06831, 0.06488, 0.864],\n",
       " [3, 41472, 0.06983, 0.06478, 0.865],\n",
       " [3, 42240, 0.06657, 0.06473, 0.866],\n",
       " [3, 43008, 0.0736, 0.06481, 0.866],\n",
       " [3, 43776, 0.05517, 0.06517, 0.866],\n",
       " [4, 0, 0.05975, 0.06561, 0.866],\n",
       " [4, 768, 0.06711, 0.0654, 0.867],\n",
       " [4, 1536, 0.06418, 0.06493, 0.869],\n",
       " [4, 2304, 0.0721, 0.06403, 0.871],\n",
       " [4, 3072, 0.06783, 0.06383, 0.873],\n",
       " [4, 3840, 0.06677, 0.06392, 0.873],\n",
       " [4, 4608, 0.05816, 0.0636, 0.873],\n",
       " [4, 5376, 0.06377, 0.06349, 0.873],\n",
       " [4, 6144, 0.04865, 0.06454, 0.871],\n",
       " [4, 6912, 0.05517, 0.06653, 0.867]]"
      ]
     },
     "execution_count": 4,
     "metadata": {},
     "output_type": "execute_result"
    }
   ],
   "source": [
    "results_model10_train_val"
   ]
  },
  {
   "cell_type": "code",
   "execution_count": 6,
   "metadata": {},
   "outputs": [],
   "source": [
    "loss_train = []\n",
    "for i in range(len(results_model10_train_val)):\n",
    "    loss_train.append(results_model10_train_val[i][2]) "
   ]
  },
  {
   "cell_type": "code",
   "execution_count": 7,
   "metadata": {},
   "outputs": [],
   "source": [
    "loss_val = []\n",
    "for i in range(len(results_model10_train_val)):\n",
    "    loss_val.append(results_model10_train_val[i][3]) "
   ]
  },
  {
   "cell_type": "code",
   "execution_count": 9,
   "metadata": {},
   "outputs": [
    {
     "data": {
      "image/png": "[encoded data removed]",
      "text/plain": [
       "<Figure size 432x288 with 1 Axes>"
      ]
     },
     "metadata": {},
     "output_type": "display_data"
    }
   ],
   "source": [
    "plt.plot(loss_val, label = \"Validation loss\")\n",
    "plt.plot(loss_train, label = \"Train loss\")\n",
    "plt.legend()\n",
    "plt.grid()\n",
    "plt.ylabel('log-loss')\n",
    "plt.xlabel('batchs')\n",
    "plt.show()"
   ]
  },
  {
   "cell_type": "code",
   "execution_count": 21,
   "metadata": {},
   "outputs": [
    {
     "data": {
      "text/plain": [
       "[[0, 0, 0.75951, 0.72838, 0.453],\n",
       " [0, 768, 0.72646, 0.69322, 0.44],\n",
       " [0, 1536, 0.69537, 0.65884, 0.392],\n",
       " [0, 2304, 0.65654, 0.6272, 0.321],\n",
       " [0, 3072, 0.62787, 0.59405, 0.276],\n",
       " [0, 3840, 0.59812, 0.56156, 0.252],\n",
       " [0, 4608, 0.55685, 0.52979, 0.24],\n",
       " [0, 5376, 0.53223, 0.49863, 0.233],\n",
       " [0, 6144, 0.50329, 0.46786, 0.229],\n",
       " [0, 6912, 0.47386, 0.43729, 0.227],\n",
       " [0, 7680, 0.44129, 0.40685, 0.225],\n",
       " [0, 8448, 0.4021, 0.37658, 0.224],\n",
       " [0, 9216, 0.38064, 0.34686, 0.223],\n",
       " [0, 9984, 0.34957, 0.31829, 0.221],\n",
       " [0, 10752, 0.32535, 0.29093, 0.22],\n",
       " [0, 11520, 0.29628, 0.26508, 0.219],\n",
       " [0, 12288, 0.26621, 0.24115, 0.218],\n",
       " [0, 13056, 0.24052, 0.219, 0.217],\n",
       " [0, 13824, 0.21383, 0.19914, 0.217],\n",
       " [0, 14592, 0.21114, 0.18126, 0.216],\n",
       " [0, 15360, 0.17812, 0.16573, 0.217],\n",
       " [0, 16128, 0.16508, 0.15245, 0.217],\n",
       " [0, 16896, 0.15298, 0.14118, 0.217],\n",
       " [0, 17664, 0.1368, 0.13205, 0.219],\n",
       " [0, 18432, 0.1271, 0.12476, 0.22],\n",
       " [0, 19200, 0.12317, 0.11922, 0.222],\n",
       " [0, 19968, 0.10539, 0.11521, 0.224],\n",
       " [0, 20736, 0.1244, 0.11248, 0.226],\n",
       " [0, 21504, 0.1111, 0.11079, 0.228],\n",
       " [0, 22272, 0.10085, 0.10987, 0.23],\n",
       " [0, 23040, 0.1199, 0.10943, 0.232],\n",
       " [0, 23808, 0.10731, 0.10929, 0.234],\n",
       " [0, 24576, 0.11103, 0.1093, 0.236],\n",
       " [0, 25344, 0.12308, 0.10927, 0.238],\n",
       " [0, 26112, 0.10432, 0.10919, 0.241],\n",
       " [0, 26880, 0.11437, 0.10899, 0.243],\n",
       " [0, 27648, 0.10653, 0.10867, 0.246],\n",
       " [0, 28416, 0.11256, 0.1082, 0.248],\n",
       " [0, 29184, 0.11388, 0.10756, 0.251],\n",
       " [0, 29952, 0.12485, 0.10676, 0.254],\n",
       " [0, 30720, 0.12337, 0.1058, 0.257],\n",
       " [0, 31488, 0.10543, 0.10477, 0.26],\n",
       " [0, 32256, 0.1005, 0.10371, 0.264],\n",
       " [0, 33024, 0.11459, 0.1026, 0.267],\n",
       " [0, 33792, 0.10712, 0.10149, 0.271],\n",
       " [0, 34560, 0.09979, 0.10041, 0.274],\n",
       " [0, 35328, 0.07544, 0.09942, 0.277],\n",
       " [0, 36096, 0.10649, 0.09845, 0.28],\n",
       " [0, 36864, 0.10717, 0.09753, 0.283],\n",
       " [0, 37632, 0.10438, 0.09665, 0.287],\n",
       " [0, 38400, 0.10231, 0.09584, 0.29],\n",
       " [0, 39168, 0.09645, 0.09509, 0.294],\n",
       " [0, 39936, 0.09907, 0.09442, 0.297],\n",
       " [0, 40704, 0.09685, 0.09383, 0.301],\n",
       " [0, 41472, 0.09445, 0.09331, 0.304],\n",
       " [0, 42240, 0.11091, 0.09285, 0.307],\n",
       " [0, 43008, 0.09481, 0.09246, 0.311],\n",
       " [0, 43776, 0.10814, 0.09211, 0.314],\n",
       " [1, 0, 0.1146, 0.09182, 0.318],\n",
       " [1, 768, 0.08403, 0.09157, 0.322],\n",
       " [1, 1536, 0.10165, 0.09135, 0.325],\n",
       " [1, 2304, 0.10029, 0.09115, 0.328],\n",
       " [1, 3072, 0.09267, 0.09095, 0.332],\n",
       " [1, 3840, 0.10005, 0.09075, 0.335],\n",
       " [1, 4608, 0.07986, 0.09054, 0.338],\n",
       " [1, 5376, 0.09065, 0.09032, 0.342],\n",
       " [1, 6144, 0.08054, 0.09008, 0.345],\n",
       " [1, 6912, 0.09114, 0.08982, 0.348],\n",
       " [1, 7680, 0.11236, 0.08957, 0.351],\n",
       " [1, 8448, 0.09875, 0.08932, 0.354],\n",
       " [1, 9216, 0.08435, 0.08906, 0.357],\n",
       " [1, 9984, 0.09855, 0.0888, 0.36],\n",
       " [1, 10752, 0.08932, 0.08854, 0.364],\n",
       " [1, 11520, 0.08664, 0.08829, 0.367],\n",
       " [1, 12288, 0.1068, 0.08806, 0.371],\n",
       " [1, 13056, 0.07344, 0.08782, 0.375],\n",
       " [1, 13824, 0.09351, 0.08759, 0.379],\n",
       " [1, 14592, 0.08887, 0.08736, 0.385],\n",
       " [1, 15360, 0.08367, 0.08715, 0.39],\n",
       " [1, 16128, 0.09158, 0.08694, 0.397],\n",
       " [1, 16896, 0.09621, 0.08673, 0.405],\n",
       " [1, 17664, 0.08913, 0.08654, 0.414],\n",
       " [1, 18432, 0.08125, 0.08639, 0.422],\n",
       " [1, 19200, 0.06952, 0.08627, 0.43],\n",
       " [1, 19968, 0.08829, 0.08615, 0.437],\n",
       " [1, 20736, 0.08807, 0.086, 0.446],\n",
       " [1, 21504, 0.09513, 0.0858, 0.456],\n",
       " [1, 22272, 0.09562, 0.08555, 0.466],\n",
       " [1, 23040, 0.08249, 0.0853, 0.477],\n",
       " [1, 23808, 0.06786, 0.08509, 0.487],\n",
       " [1, 24576, 0.07728, 0.08487, 0.498],\n",
       " [1, 25344, 0.08826, 0.08464, 0.508],\n",
       " [1, 26112, 0.07531, 0.08442, 0.519],\n",
       " [1, 26880, 0.089, 0.08419, 0.529],\n",
       " [1, 27648, 0.09917, 0.08393, 0.539],\n",
       " [1, 28416, 0.07931, 0.08368, 0.548],\n",
       " [1, 29184, 0.07614, 0.08345, 0.558],\n",
       " [1, 29952, 0.07213, 0.08324, 0.567],\n",
       " [1, 30720, 0.10232, 0.083, 0.576],\n",
       " [1, 31488, 0.09465, 0.08275, 0.585],\n",
       " [1, 32256, 0.08915, 0.08252, 0.593],\n",
       " [1, 33024, 0.09377, 0.0823, 0.602],\n",
       " [1, 33792, 0.07123, 0.08209, 0.61],\n",
       " [1, 34560, 0.09108, 0.08188, 0.618],\n",
       " [1, 35328, 0.06384, 0.08167, 0.625],\n",
       " [1, 36096, 0.0764, 0.08146, 0.632],\n",
       " [1, 36864, 0.0804, 0.08127, 0.639],\n",
       " [1, 37632, 0.07254, 0.08109, 0.645],\n",
       " [1, 38400, 0.0956, 0.0809, 0.651],\n",
       " [1, 39168, 0.09071, 0.0807, 0.657],\n",
       " [1, 39936, 0.08902, 0.08049, 0.663],\n",
       " [1, 40704, 0.09665, 0.08025, 0.67],\n",
       " [1, 41472, 0.08737, 0.08, 0.676],\n",
       " [1, 42240, 0.0635, 0.07978, 0.681],\n",
       " [1, 43008, 0.07503, 0.07958, 0.686],\n",
       " [1, 43776, 0.07581, 0.07937, 0.691],\n",
       " [2, 0, 0.08401, 0.07917, 0.695],\n",
       " [2, 768, 0.06966, 0.07902, 0.699],\n",
       " [2, 1536, 0.07986, 0.07886, 0.702],\n",
       " [2, 2304, 0.08967, 0.07868, 0.706],\n",
       " [2, 3072, 0.07906, 0.07847, 0.71],\n",
       " [2, 3840, 0.07389, 0.07826, 0.714],\n",
       " [2, 4608, 0.08352, 0.07802, 0.717],\n",
       " [2, 5376, 0.08184, 0.07777, 0.721],\n",
       " [2, 6144, 0.07895, 0.07752, 0.725],\n",
       " [2, 6912, 0.07794, 0.07727, 0.729],\n",
       " [2, 7680, 0.07379, 0.07705, 0.732],\n",
       " [2, 8448, 0.08314, 0.07683, 0.735],\n",
       " [2, 9216, 0.07173, 0.07664, 0.738],\n",
       " [2, 9984, 0.06343, 0.07648, 0.74],\n",
       " [2, 10752, 0.09279, 0.07629, 0.742],\n",
       " [2, 11520, 0.09819, 0.07608, 0.746],\n",
       " [2, 12288, 0.07753, 0.07591, 0.748],\n",
       " [2, 13056, 0.07165, 0.07576, 0.751],\n",
       " [2, 13824, 0.07802, 0.0756, 0.752],\n",
       " [2, 14592, 0.07247, 0.07546, 0.754],\n",
       " [2, 15360, 0.07298, 0.07535, 0.755],\n",
       " [2, 16128, 0.07619, 0.07526, 0.756],\n",
       " [2, 16896, 0.07551, 0.07521, 0.757],\n",
       " [2, 17664, 0.08667, 0.0751, 0.758],\n",
       " [2, 18432, 0.0823, 0.07495, 0.76],\n",
       " [2, 19200, 0.07268, 0.0748, 0.762],\n",
       " [2, 19968, 0.07769, 0.07464, 0.764],\n",
       " [2, 20736, 0.07531, 0.07448, 0.766],\n",
       " [2, 21504, 0.0898, 0.07428, 0.768],\n",
       " [2, 22272, 0.07845, 0.0741, 0.771],\n",
       " [2, 23040, 0.06799, 0.07396, 0.773],\n",
       " [2, 23808, 0.06651, 0.07384, 0.774],\n",
       " [2, 24576, 0.07036, 0.07373, 0.775],\n",
       " [2, 25344, 0.07621, 0.07364, 0.776],\n",
       " [2, 26112, 0.0738, 0.07359, 0.776],\n",
       " [2, 26880, 0.08174, 0.07354, 0.777],\n",
       " [2, 27648, 0.07379, 0.07354, 0.777],\n",
       " [2, 28416, 0.08008, 0.07349, 0.778],\n",
       " [2, 29184, 0.08366, 0.07334, 0.78],\n",
       " [2, 29952, 0.07775, 0.07318, 0.781],\n",
       " [2, 30720, 0.06781, 0.07306, 0.782],\n",
       " [2, 31488, 0.07555, 0.07296, 0.783],\n",
       " [2, 32256, 0.08649, 0.07278, 0.785],\n",
       " [2, 33024, 0.07078, 0.07265, 0.786],\n",
       " [2, 33792, 0.06102, 0.07259, 0.787],\n",
       " [2, 34560, 0.06982, 0.07258, 0.787],\n",
       " [2, 35328, 0.07279, 0.07258, 0.788],\n",
       " [2, 36096, 0.07587, 0.07253, 0.789],\n",
       " [2, 36864, 0.07265, 0.07247, 0.789],\n",
       " [2, 37632, 0.06949, 0.07244, 0.79],\n",
       " [2, 38400, 0.0545, 0.07254, 0.79],\n",
       " [2, 39168, 0.07995, 0.07249, 0.791],\n",
       " [2, 39936, 0.05851, 0.07252, 0.792],\n",
       " [2, 40704, 0.07521, 0.07243, 0.793],\n",
       " [2, 41472, 0.06393, 0.0723, 0.795],\n",
       " [2, 42240, 0.08615, 0.07193, 0.797],\n",
       " [2, 43008, 0.09265, 0.07139, 0.8],\n",
       " [2, 43776, 0.07572, 0.07112, 0.803],\n",
       " [3, 0, 0.07771, 0.07097, 0.805],\n",
       " [3, 768, 0.0735, 0.07087, 0.807],\n",
       " [3, 1536, 0.07517, 0.07075, 0.808],\n",
       " [3, 2304, 0.07368, 0.07062, 0.809],\n",
       " [3, 3072, 0.07613, 0.07053, 0.809],\n",
       " [3, 3840, 0.07335, 0.07059, 0.809],\n",
       " [3, 4608, 0.06284, 0.07083, 0.809],\n",
       " [3, 5376, 0.06605, 0.07118, 0.808],\n",
       " [3, 6144, 0.08798, 0.07109, 0.809],\n",
       " [3, 6912, 0.07613, 0.07074, 0.811],\n",
       " [3, 7680, 0.0655, 0.07044, 0.813],\n",
       " [3, 8448, 0.08649, 0.06996, 0.816],\n",
       " [3, 9216, 0.08313, 0.06963, 0.819],\n",
       " [3, 9984, 0.05562, 0.06949, 0.82],\n",
       " [3, 10752, 0.07596, 0.06936, 0.821],\n",
       " [3, 11520, 0.06847, 0.06933, 0.822],\n",
       " [3, 12288, 0.07864, 0.06928, 0.822],\n",
       " [3, 13056, 0.07599, 0.06913, 0.824],\n",
       " [3, 13824, 0.06317, 0.06915, 0.824],\n",
       " [3, 14592, 0.07173, 0.06918, 0.825],\n",
       " [3, 15360, 0.06377, 0.06931, 0.825],\n",
       " [3, 16128, 0.06276, 0.06945, 0.826],\n",
       " [3, 16896, 0.06206, 0.06957, 0.826],\n",
       " [3, 17664, 0.06249, 0.06962, 0.827],\n",
       " [3, 18432, 0.06665, 0.0696, 0.827],\n",
       " [3, 19200, 0.06747, 0.06929, 0.829],\n",
       " [3, 19968, 0.06375, 0.06905, 0.83],\n",
       " [3, 20736, 0.07834, 0.06836, 0.833],\n",
       " [3, 21504, 0.07176, 0.0678, 0.836],\n",
       " [3, 22272, 0.0698, 0.06753, 0.838],\n",
       " [3, 23040, 0.06245, 0.0674, 0.839],\n",
       " [3, 23808, 0.0766, 0.06726, 0.841],\n",
       " [3, 24576, 0.0688, 0.0672, 0.842],\n",
       " [3, 25344, 0.05347, 0.0674, 0.842],\n",
       " [3, 26112, 0.07489, 0.06746, 0.842],\n",
       " [3, 26880, 0.07151, 0.0675, 0.843],\n",
       " [3, 27648, 0.06885, 0.06726, 0.845],\n",
       " [3, 28416, 0.06985, 0.06683, 0.847],\n",
       " [3, 29184, 0.07308, 0.06635, 0.85],\n",
       " [3, 29952, 0.07634, 0.06615, 0.852],\n",
       " [3, 30720, 0.0627, 0.0661, 0.854],\n",
       " [3, 31488, 0.06522, 0.06586, 0.855],\n",
       " [3, 32256, 0.07878, 0.06567, 0.856],\n",
       " [3, 33024, 0.06089, 0.0656, 0.857],\n",
       " [3, 33792, 0.0699, 0.06593, 0.856],\n",
       " [3, 34560, 0.07313, 0.06601, 0.857],\n",
       " [3, 35328, 0.07662, 0.06566, 0.859],\n",
       " [3, 36096, 0.06411, 0.06549, 0.86],\n",
       " [3, 36864, 0.05129, 0.06541, 0.861],\n",
       " [3, 37632, 0.07186, 0.06515, 0.862],\n",
       " [3, 38400, 0.05911, 0.06498, 0.863],\n",
       " [3, 39168, 0.05781, 0.06492, 0.863],\n",
       " [3, 39936, 0.07989, 0.06492, 0.864],\n",
       " [3, 40704, 0.06831, 0.06488, 0.864],\n",
       " [3, 41472, 0.06983, 0.06478, 0.865],\n",
       " [3, 42240, 0.06657, 0.06473, 0.866],\n",
       " [3, 43008, 0.0736, 0.06481, 0.866],\n",
       " [3, 43776, 0.05517, 0.06517, 0.866],\n",
       " [4, 0, 0.05975, 0.06561, 0.866],\n",
       " [4, 768, 0.06711, 0.0654, 0.867],\n",
       " [4, 1536, 0.06418, 0.06493, 0.869],\n",
       " [4, 2304, 0.0721, 0.06403, 0.871],\n",
       " [4, 3072, 0.06783, 0.06383, 0.873],\n",
       " [4, 3840, 0.06677, 0.06392, 0.873],\n",
       " [4, 4608, 0.05816, 0.0636, 0.873],\n",
       " [4, 5376, 0.06377, 0.06349, 0.873],\n",
       " [4, 6144, 0.04865, 0.06454, 0.871],\n",
       " [4, 6912, 0.05517, 0.06653, 0.867]]"
      ]
     },
     "execution_count": 21,
     "metadata": {},
     "output_type": "execute_result"
    }
   ],
   "source": [
    "results_model10_train_val"
   ]
  },
  {
   "cell_type": "code",
   "execution_count": 11,
   "metadata": {},
   "outputs": [],
   "source": [
    "y_val = joblib.load('MODEL10_ALL/val_y_model7.pickle')\n",
    "scores_val = joblib.load('MODEL10_ALL/ALL_scores_val_model7.pickle')"
   ]
  },
  {
   "cell_type": "code",
   "execution_count": 33,
   "metadata": {},
   "outputs": [
    {
     "data": {
      "text/plain": [
       "22.0"
      ]
     },
     "execution_count": 33,
     "metadata": {},
     "output_type": "execute_result"
    }
   ],
   "source": [
    "len(y_val)/11"
   ]
  },
  {
   "cell_type": "code",
   "execution_count": 40,
   "metadata": {},
   "outputs": [
    {
     "data": {
      "text/plain": [
       "48.0"
      ]
     },
     "execution_count": 40,
     "metadata": {},
     "output_type": "execute_result"
    }
   ],
   "source": [
    "375024/7813"
   ]
  },
  {
   "cell_type": "code",
   "execution_count": 41,
   "metadata": {},
   "outputs": [
    {
     "data": {
      "text/plain": [
       "242"
      ]
     },
     "execution_count": 41,
     "metadata": {},
     "output_type": "execute_result"
    }
   ],
   "source": [
    "len(y_val)"
   ]
  },
  {
   "cell_type": "code",
   "execution_count": 39,
   "metadata": {},
   "outputs": [
    {
     "name": "stdout",
     "output_type": "stream",
     "text": [
      "(375024,)\n"
     ]
    }
   ],
   "source": [
    "aux = None\n",
    "\n",
    "for e in y_val:\n",
    "    if aux != e.shape:\n",
    "        print(e.shape)\n",
    "    aux = e.shape"
   ]
  },
  {
   "cell_type": "code",
   "execution_count": 42,
   "metadata": {},
   "outputs": [
    {
     "data": {
      "text/plain": [
       "491.0"
      ]
     },
     "execution_count": 42,
     "metadata": {},
     "output_type": "execute_result"
    }
   ],
   "source": [
    "rval = get_last_period_result(y_val[-1], scores_val[-1], 48)\n",
    "rval['y'].sum()"
   ]
  },
  {
   "cell_type": "code",
   "execution_count": 45,
   "metadata": {},
   "outputs": [
    {
     "data": {
      "image/png": "[encoded data removed]",
      "text/plain": [
       "<Figure size 432x288 with 1 Axes>"
      ]
     },
     "metadata": {},
     "output_type": "display_data"
    }
   ],
   "source": [
    "plot_adjustment(rval, target_name='y', score_name='score', groups=10,\n",
    "lift=True, display_table=False)"
   ]
  },
  {
   "cell_type": "code",
   "execution_count": 43,
   "metadata": {},
   "outputs": [
    {
     "data": {
      "image/png": "[encoded data removed]",
      "text/plain": [
       "<Figure size 432x288 with 1 Axes>"
      ]
     },
     "metadata": {},
     "output_type": "display_data"
    }
   ],
   "source": [
    "plot_binary_roc_curve(y_test=rval['y'], y_score=rval['score'])"
   ]
  },
  {
   "cell_type": "code",
   "execution_count": 46,
   "metadata": {},
   "outputs": [],
   "source": [
    "y_test = joblib.load('MODEL10_ALL/ALL_res_test_model10.pickle')\n",
    "scores_test = joblib.load('MODEL10_ALL/ALL_scores_test10.pickle')"
   ]
  },
  {
   "cell_type": "code",
   "execution_count": 47,
   "metadata": {},
   "outputs": [
    {
     "data": {
      "text/plain": [
       "412.0"
      ]
     },
     "execution_count": 47,
     "metadata": {},
     "output_type": "execute_result"
    }
   ],
   "source": [
    "rtest = get_last_period_result(y_test, scores_test, 48)\n",
    "rtest['y'].sum()"
   ]
  },
  {
   "cell_type": "code",
   "execution_count": 6,
   "metadata": {
    "scrolled": true
   },
   "outputs": [
    {
     "data": {
      "text/html": [
       "<div>\n",
       "<style scoped>\n",
       "    .dataframe tbody tr th:only-of-type {\n",
       "        vertical-align: middle;\n",
       "    }\n",
       "\n",
       "    .dataframe tbody tr th {\n",
       "        vertical-align: top;\n",
       "    }\n",
       "\n",
       "    .dataframe thead th {\n",
       "        text-align: right;\n",
       "    }\n",
       "</style>\n",
       "<table border=\"1\" class=\"dataframe\">\n",
       "  <thead>\n",
       "    <tr style=\"text-align: right;\">\n",
       "      <th></th>\n",
       "      <th>y</th>\n",
       "      <th>score</th>\n",
       "    </tr>\n",
       "  </thead>\n",
       "  <tbody>\n",
       "    <tr>\n",
       "      <th>47</th>\n",
       "      <td>0.0</td>\n",
       "      <td>0.023481</td>\n",
       "    </tr>\n",
       "    <tr>\n",
       "      <th>95</th>\n",
       "      <td>0.0</td>\n",
       "      <td>0.004181</td>\n",
       "    </tr>\n",
       "    <tr>\n",
       "      <th>143</th>\n",
       "      <td>0.0</td>\n",
       "      <td>0.033821</td>\n",
       "    </tr>\n",
       "    <tr>\n",
       "      <th>191</th>\n",
       "      <td>0.0</td>\n",
       "      <td>0.022488</td>\n",
       "    </tr>\n",
       "    <tr>\n",
       "      <th>239</th>\n",
       "      <td>0.0</td>\n",
       "      <td>0.003396</td>\n",
       "    </tr>\n",
       "  </tbody>\n",
       "</table>\n",
       "</div>"
      ],
      "text/plain": [
       "       y     score\n",
       "47   0.0  0.023481\n",
       "95   0.0  0.004181\n",
       "143  0.0  0.033821\n",
       "191  0.0  0.022488\n",
       "239  0.0  0.003396"
      ]
     },
     "execution_count": 6,
     "metadata": {},
     "output_type": "execute_result"
    }
   ],
   "source": [
    "rtest.head()"
   ]
  },
  {
   "cell_type": "code",
   "execution_count": 48,
   "metadata": {},
   "outputs": [
    {
     "data": {
      "image/png": "[encoded data removed]",
      "text/plain": [
       "<Figure size 432x288 with 1 Axes>"
      ]
     },
     "metadata": {},
     "output_type": "display_data"
    }
   ],
   "source": [
    "plot_adjustment(rtest, target_name='y', score_name='score', groups=10,\n",
    "lift=True, display_table=False)"
   ]
  },
  {
   "cell_type": "code",
   "execution_count": 49,
   "metadata": {},
   "outputs": [
    {
     "data": {
      "text/html": [
       "<div>\n",
       "<style scoped>\n",
       "    .dataframe tbody tr th:only-of-type {\n",
       "        vertical-align: middle;\n",
       "    }\n",
       "\n",
       "    .dataframe tbody tr th {\n",
       "        vertical-align: top;\n",
       "    }\n",
       "\n",
       "    .dataframe thead th {\n",
       "        text-align: right;\n",
       "    }\n",
       "</style>\n",
       "<table border=\"1\" class=\"dataframe\">\n",
       "  <thead>\n",
       "    <tr style=\"text-align: right;\">\n",
       "      <th></th>\n",
       "      <th>y</th>\n",
       "      <th>score</th>\n",
       "      <th>size</th>\n",
       "      <th>real_lift</th>\n",
       "      <th>pred_lift</th>\n",
       "    </tr>\n",
       "    <tr>\n",
       "      <th>group</th>\n",
       "      <th></th>\n",
       "      <th></th>\n",
       "      <th></th>\n",
       "      <th></th>\n",
       "      <th></th>\n",
       "    </tr>\n",
       "  </thead>\n",
       "  <tbody>\n",
       "    <tr>\n",
       "      <th>1</th>\n",
       "      <td>0.001938</td>\n",
       "      <td>0.001228</td>\n",
       "      <td>4643</td>\n",
       "      <td>0.218395</td>\n",
       "      <td>0.078629</td>\n",
       "    </tr>\n",
       "    <tr>\n",
       "      <th>2</th>\n",
       "      <td>0.001938</td>\n",
       "      <td>0.002266</td>\n",
       "      <td>4643</td>\n",
       "      <td>0.218395</td>\n",
       "      <td>0.145034</td>\n",
       "    </tr>\n",
       "    <tr>\n",
       "      <th>3</th>\n",
       "      <td>0.004092</td>\n",
       "      <td>0.003081</td>\n",
       "      <td>4643</td>\n",
       "      <td>0.461055</td>\n",
       "      <td>0.197204</td>\n",
       "    </tr>\n",
       "    <tr>\n",
       "      <th>4</th>\n",
       "      <td>0.003877</td>\n",
       "      <td>0.004206</td>\n",
       "      <td>4643</td>\n",
       "      <td>0.436789</td>\n",
       "      <td>0.269263</td>\n",
       "    </tr>\n",
       "    <tr>\n",
       "      <th>5</th>\n",
       "      <td>0.008184</td>\n",
       "      <td>0.005800</td>\n",
       "      <td>4643</td>\n",
       "      <td>0.922110</td>\n",
       "      <td>0.371258</td>\n",
       "    </tr>\n",
       "    <tr>\n",
       "      <th>6</th>\n",
       "      <td>0.004738</td>\n",
       "      <td>0.008096</td>\n",
       "      <td>4643</td>\n",
       "      <td>0.533853</td>\n",
       "      <td>0.518223</td>\n",
       "    </tr>\n",
       "    <tr>\n",
       "      <th>7</th>\n",
       "      <td>0.007107</td>\n",
       "      <td>0.011535</td>\n",
       "      <td>4643</td>\n",
       "      <td>0.800780</td>\n",
       "      <td>0.738400</td>\n",
       "    </tr>\n",
       "    <tr>\n",
       "      <th>8</th>\n",
       "      <td>0.011630</td>\n",
       "      <td>0.017564</td>\n",
       "      <td>4643</td>\n",
       "      <td>1.310367</td>\n",
       "      <td>1.124297</td>\n",
       "    </tr>\n",
       "    <tr>\n",
       "      <th>9</th>\n",
       "      <td>0.012492</td>\n",
       "      <td>0.029713</td>\n",
       "      <td>4643</td>\n",
       "      <td>1.407431</td>\n",
       "      <td>1.901967</td>\n",
       "    </tr>\n",
       "    <tr>\n",
       "      <th>10</th>\n",
       "      <td>0.032759</td>\n",
       "      <td>0.072733</td>\n",
       "      <td>4640</td>\n",
       "      <td>3.690825</td>\n",
       "      <td>4.655724</td>\n",
       "    </tr>\n",
       "  </tbody>\n",
       "</table>\n",
       "</div>"
      ],
      "text/plain": [
       "              y     score  size  real_lift  pred_lift\n",
       "group                                                \n",
       "1      0.001938  0.001228  4643   0.218395   0.078629\n",
       "2      0.001938  0.002266  4643   0.218395   0.145034\n",
       "3      0.004092  0.003081  4643   0.461055   0.197204\n",
       "4      0.003877  0.004206  4643   0.436789   0.269263\n",
       "5      0.008184  0.005800  4643   0.922110   0.371258\n",
       "6      0.004738  0.008096  4643   0.533853   0.518223\n",
       "7      0.007107  0.011535  4643   0.800780   0.738400\n",
       "8      0.011630  0.017564  4643   1.310367   1.124297\n",
       "9      0.012492  0.029713  4643   1.407431   1.901967\n",
       "10     0.032759  0.072733  4640   3.690825   4.655724"
      ]
     },
     "metadata": {},
     "output_type": "display_data"
    },
    {
     "data": {
      "image/png": "[encoded data removed]",
      "text/plain": [
       "<Figure size 432x288 with 1 Axes>"
      ]
     },
     "metadata": {},
     "output_type": "display_data"
    }
   ],
   "source": [
    "plot_adjustment(rtest, target_name='y', score_name='score', groups=10,\n",
    "lift=False, display_table=True)"
   ]
  },
  {
   "cell_type": "code",
   "execution_count": 50,
   "metadata": {},
   "outputs": [
    {
     "data": {
      "image/png": "[encoded data removed]",
      "text/plain": [
       "<Figure size 432x288 with 1 Axes>"
      ]
     },
     "metadata": {},
     "output_type": "display_data"
    }
   ],
   "source": [
    "plot_binary_roc_curve(y_test=rtest['y'], y_score=rtest['score'])"
   ]
  }
 ],
 "metadata": {
  "kernelspec": {
   "display_name": "Python 3",
   "language": "python",
   "name": "python3"
  },
  "language_info": {
   "codemirror_mode": {
    "name": "ipython",
    "version": 3
   },
   "file_extension": ".py",
   "mimetype": "text/x-python",
   "name": "python",
   "nbconvert_exporter": "python",
   "pygments_lexer": "ipython3",
   "version": "3.6.5"
  }
 },
 "nbformat": 4,
 "nbformat_minor": 2
}
